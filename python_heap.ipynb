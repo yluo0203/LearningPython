{
  "nbformat": 4,
  "nbformat_minor": 0,
  "metadata": {
    "colab": {
      "name": "python_heap.ipynb",
      "version": "0.3.2",
      "provenance": [],
      "include_colab_link": true
    },
    "kernelspec": {
      "name": "python2",
      "display_name": "Python 2"
    }
  },
  "cells": [
    {
      "cell_type": "markdown",
      "metadata": {
        "id": "view-in-github",
        "colab_type": "text"
      },
      "source": [
        "<a href=\"https://colab.research.google.com/github/yluo0203/LearningPython/blob/master/python_heap.ipynb\" target=\"_parent\"><img src=\"https://colab.research.google.com/assets/colab-badge.svg\" alt=\"Open In Colab\"/></a>"
      ]
    },
    {
      "metadata": {
        "id": "JaHw3DQnzwYw",
        "colab_type": "code",
        "colab": {}
      },
      "cell_type": "code",
      "source": [
        "import heapq\n",
        "import random"
      ],
      "execution_count": 0,
      "outputs": []
    },
    {
      "metadata": {
        "id": "RlYweLcg1JtP",
        "colab_type": "code",
        "colab": {
          "base_uri": "https://localhost:8080/",
          "height": 34
        },
        "outputId": "610e1b08-718b-4570-c59c-47910f6d5e8e"
      },
      "cell_type": "code",
      "source": [
        "rand_list = []\n",
        "\n",
        "for i in range(0,20):\n",
        "    x = random.randint(0,9)\n",
        "    rand_list.append(x)\n",
        "\n",
        "print(rand_list)"
      ],
      "execution_count": 26,
      "outputs": [
        {
          "output_type": "stream",
          "text": [
            "[9, 9, 6, 1, 8, 9, 8, 5, 2, 7, 0, 8, 7, 3, 7, 3, 5, 0, 0, 7]\n"
          ],
          "name": "stdout"
        }
      ]
    },
    {
      "metadata": {
        "id": "g1p2fprc0j4p",
        "colab_type": "code",
        "colab": {
          "base_uri": "https://localhost:8080/",
          "height": 34
        },
        "outputId": "4801579a-58b6-4154-968e-17507cc7a512"
      },
      "cell_type": "code",
      "source": [
        "def heapsort(iterable):\n",
        "  h = []\n",
        "  for value in iterable:\n",
        "    heapq.heappush(h, value)\n",
        "  return [heapq.heappop(h) for i in range(len(h))]"
      ],
      "execution_count": 32,
      "outputs": [
        {
          "output_type": "execute_result",
          "data": {
            "text/plain": [
              "[0, 0, 0, 1, 2, 3, 3, 5, 5, 6, 7, 7, 7, 7, 8, 8, 8, 9, 9, 9]"
            ]
          },
          "metadata": {
            "tags": []
          },
          "execution_count": 32
        }
      ]
    },
    {
      "metadata": {
        "id": "JWQLNLOz0cdZ",
        "colab_type": "code",
        "colab": {
          "base_uri": "https://localhost:8080/",
          "height": 34
        },
        "outputId": "079ab6f3-cd5e-4ae2-de73-860cb0f3a91a"
      },
      "cell_type": "code",
      "source": [
        "my_list = rand_list\n",
        "heapsort(rand_list)"
      ],
      "execution_count": 36,
      "outputs": [
        {
          "output_type": "execute_result",
          "data": {
            "text/plain": [
              "[0, 0, 0, 1, 2, 3, 3, 5, 5, 6, 7, 7, 7, 7, 8, 8, 8, 9, 9, 9]"
            ]
          },
          "metadata": {
            "tags": []
          },
          "execution_count": 36
        }
      ]
    },
    {
      "metadata": {
        "id": "DtRxYRsw4h-t",
        "colab_type": "code",
        "colab": {}
      },
      "cell_type": "code",
      "source": [
        ""
      ],
      "execution_count": 0,
      "outputs": []
    },
    {
      "metadata": {
        "id": "xHL6jrbD4jVY",
        "colab_type": "text"
      },
      "cell_type": "markdown",
      "source": [
        "Priority Queue Implementation Notes\n",
        "Ref: https://docs.python.org/2/library/heapq.html"
      ]
    },
    {
      "metadata": {
        "id": "3KB5lH7n4q8c",
        "colab_type": "code",
        "colab": {}
      },
      "cell_type": "code",
      "source": [
        "import itertools\n",
        "pq = []                         # list of entries arranged in a heap\n",
        "entry_finder = {}               # mapping of tasks to entries\n",
        "REMOVED = '<removed-task>'      # placeholder for a removed task\n",
        "counter = itertools.count()     # unique sequence count\n",
        "\n",
        "def add_task(task, priority=0):\n",
        "    'Add a new task or update the priority of an existing task'\n",
        "    if task in entry_finder:\n",
        "        remove_task(task)\n",
        "    count = next(counter)\n",
        "    entry = [priority, count, task]\n",
        "    entry_finder[task] = entry\n",
        "    heappush(pq, entry)\n",
        "\n",
        "def remove_task(task):\n",
        "    'Mark an existing task as REMOVED.  Raise KeyError if not found.'\n",
        "    entry = entry_finder.pop(task)\n",
        "    entry[-1] = REMOVED\n",
        "\n",
        "def pop_task():\n",
        "    'Remove and return the lowest priority task. Raise KeyError if empty.'\n",
        "    while pq:\n",
        "        priority, count, task = heappop(pq)\n",
        "        if task is not REMOVED:\n",
        "            del entry_finder[task]\n",
        "            return task\n",
        "    raise KeyError('pop from an empty priority queue')"
      ],
      "execution_count": 0,
      "outputs": []
    }
  ]
}