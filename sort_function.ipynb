{
  "nbformat": 4,
  "nbformat_minor": 0,
  "metadata": {
    "colab": {
      "name": "Untitled9.ipynb",
      "version": "0.3.2",
      "provenance": [],
      "include_colab_link": true
    },
    "kernelspec": {
      "name": "python2",
      "display_name": "Python 2"
    }
  },
  "cells": [
    {
      "cell_type": "markdown",
      "metadata": {
        "id": "view-in-github",
        "colab_type": "text"
      },
      "source": [
        "<a href=\"https://colab.research.google.com/github/yluo0203/LearningPython/blob/master/sort_function.ipynb\" target=\"_parent\"><img src=\"https://colab.research.google.com/assets/colab-badge.svg\" alt=\"Open In Colab\"/></a>"
      ]
    },
    {
      "metadata": {
        "id": "3ERzMGtUvKzY",
        "colab_type": "code",
        "colab": {
          "base_uri": "https://localhost:8080/",
          "height": 34
        },
        "outputId": "4bfdf9c4-9ad0-4f19-9990-7880b69ac32f"
      },
      "cell_type": "code",
      "source": [
        "import heapq\n",
        "my_list = [3, 4, 7, 4, 2, 4, 9,2, 4, 6, 3,2, 5, 7,3] \n",
        "heapq.heapify(my_list)\n",
        "print my_list"
      ],
      "execution_count": 4,
      "outputs": [
        {
          "output_type": "stream",
          "text": [
            "[2, 2, 3, 2, 3, 4, 3, 4, 4, 6, 4, 7, 5, 7, 9]\n"
          ],
          "name": "stdout"
        }
      ]
    },
    {
      "metadata": {
        "id": "ga_Z9N23w9X1",
        "colab_type": "code",
        "colab": {
          "base_uri": "https://localhost:8080/",
          "height": 34
        },
        "outputId": "cb9796c4-3f78-4528-9db1-e985d4deb7d5"
      },
      "cell_type": "code",
      "source": [
        "my_list = [3, 4, 7, 4, 2, 4, 9,2, 4, 6, 3,2, 5, 7,3] \n",
        "my_list.sort()\n",
        "print my_list"
      ],
      "execution_count": 8,
      "outputs": [
        {
          "output_type": "stream",
          "text": [
            "[2, 2, 2, 3, 3, 3, 4, 4, 4, 4, 5, 6, 7, 7, 9]\n"
          ],
          "name": "stdout"
        }
      ]
    },
    {
      "metadata": {
        "id": "azhuzTtCxKl1",
        "colab_type": "code",
        "colab": {
          "base_uri": "https://localhost:8080/",
          "height": 51
        },
        "outputId": "5768719f-fe8d-4f4c-ddd5-0bb82bf67004"
      },
      "cell_type": "code",
      "source": [
        "my_list = [3, 4, 7, 4, 2, 4, 9,2, 4, 6, 3,2, 5, 7,3] \n",
        "new_list = sorted(my_list)\n",
        "print new_list\n",
        "print my_list"
      ],
      "execution_count": 10,
      "outputs": [
        {
          "output_type": "stream",
          "text": [
            "[2, 2, 2, 3, 3, 3, 4, 4, 4, 4, 5, 6, 7, 7, 9]\n",
            "[3, 4, 7, 4, 2, 4, 9, 2, 4, 6, 3, 2, 5, 7, 3]\n"
          ],
          "name": "stdout"
        }
      ]
    }
  ]
}